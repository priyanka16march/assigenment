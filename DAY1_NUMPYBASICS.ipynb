{
  "nbformat": 4,
  "nbformat_minor": 0,
  "metadata": {
    "colab": {
      "name": "DAY1_NUMPYBASICS.ipynb",
      "provenance": [],
      "authorship_tag": "ABX9TyNZ2eTkNY0RYy56sluWyGkb",
      "include_colab_link": true
    },
    "kernelspec": {
      "name": "python3",
      "display_name": "Python 3"
    },
    "language_info": {
      "name": "python"
    }
  },
  "cells": [
    {
      "cell_type": "markdown",
      "metadata": {
        "id": "view-in-github",
        "colab_type": "text"
      },
      "source": [
        "<a href=\"https://colab.research.google.com/github/priyanka16march/assigenment/blob/master/DAY1_NUMPYBASICS.ipynb\" target=\"_parent\"><img src=\"https://colab.research.google.com/assets/colab-badge.svg\" alt=\"Open In Colab\"/></a>"
      ]
    },
    {
      "cell_type": "code",
      "metadata": {
        "colab": {
          "base_uri": "https://localhost:8080/"
        },
        "id": "eKmcHKoys4gx",
        "outputId": "ceb8fabd-2957-43ab-d493-f0148584aabc"
      },
      "source": [
        "print(\"we learning numpy\")"
      ],
      "execution_count": 1,
      "outputs": [
        {
          "output_type": "stream",
          "text": [
            "we learning numpy\n"
          ],
          "name": "stdout"
        }
      ]
    },
    {
      "cell_type": "code",
      "metadata": {
        "id": "2q-i9bkYtZLf"
      },
      "source": [
        "import numpy as np"
      ],
      "execution_count": 2,
      "outputs": []
    },
    {
      "cell_type": "code",
      "metadata": {
        "id": "DIILwapguV2G"
      },
      "source": [
        "## create 2D array"
      ],
      "execution_count": 3,
      "outputs": []
    },
    {
      "cell_type": "code",
      "metadata": {
        "id": "CPTSjzBQul-A"
      },
      "source": [
        "a1 = np.array([[1,2,3],[5,6,7],[8,5,3],[4,9,6]])"
      ],
      "execution_count": 4,
      "outputs": []
    },
    {
      "cell_type": "code",
      "metadata": {
        "colab": {
          "base_uri": "https://localhost:8080/"
        },
        "id": "jj8gYZiZvEim",
        "outputId": "0d5192c7-ed0d-4134-b360-15a631b7d812"
      },
      "source": [
        "a1"
      ],
      "execution_count": 5,
      "outputs": [
        {
          "output_type": "execute_result",
          "data": {
            "text/plain": [
              "array([[1, 2, 3],\n",
              "       [5, 6, 7],\n",
              "       [8, 5, 3],\n",
              "       [4, 9, 6]])"
            ]
          },
          "metadata": {
            "tags": []
          },
          "execution_count": 5
        }
      ]
    },
    {
      "cell_type": "code",
      "metadata": {
        "colab": {
          "base_uri": "https://localhost:8080/"
        },
        "id": "nPTQlG2dvFcY",
        "outputId": "33fa254d-87c6-4f16-d561-ccda6b57db7d"
      },
      "source": [
        "type(a1)"
      ],
      "execution_count": 6,
      "outputs": [
        {
          "output_type": "execute_result",
          "data": {
            "text/plain": [
              "numpy.ndarray"
            ]
          },
          "metadata": {
            "tags": []
          },
          "execution_count": 6
        }
      ]
    },
    {
      "cell_type": "code",
      "metadata": {
        "colab": {
          "base_uri": "https://localhost:8080/"
        },
        "id": "X8C3elQovRT2",
        "outputId": "35166cb1-f6f2-4b0c-f40a-920d144d021c"
      },
      "source": [
        "a1.shape ## no. of rows and cols"
      ],
      "execution_count": 7,
      "outputs": [
        {
          "output_type": "execute_result",
          "data": {
            "text/plain": [
              "(4, 3)"
            ]
          },
          "metadata": {
            "tags": []
          },
          "execution_count": 7
        }
      ]
    },
    {
      "cell_type": "code",
      "metadata": {
        "colab": {
          "base_uri": "https://localhost:8080/"
        },
        "id": "PohqE4cPvVhQ",
        "outputId": "de1a9c6a-bfdd-45ef-c44b-ae50454a1588"
      },
      "source": [
        "a1.min()  # mini value"
      ],
      "execution_count": 8,
      "outputs": [
        {
          "output_type": "execute_result",
          "data": {
            "text/plain": [
              "1"
            ]
          },
          "metadata": {
            "tags": []
          },
          "execution_count": 8
        }
      ]
    },
    {
      "cell_type": "code",
      "metadata": {
        "colab": {
          "base_uri": "https://localhost:8080/"
        },
        "id": "k0vxYm2mvetL",
        "outputId": "4390822c-aeb3-4ef6-c261-cb29fa7430d8"
      },
      "source": [
        "a1.max()  # max value"
      ],
      "execution_count": 9,
      "outputs": [
        {
          "output_type": "execute_result",
          "data": {
            "text/plain": [
              "9"
            ]
          },
          "metadata": {
            "tags": []
          },
          "execution_count": 9
        }
      ]
    },
    {
      "cell_type": "code",
      "metadata": {
        "colab": {
          "base_uri": "https://localhost:8080/"
        },
        "id": "QV_q7Z73vgNb",
        "outputId": "e0b2547a-ad7e-456a-e2c8-f2dad0f901cd"
      },
      "source": [
        "a1.argmin()  # index of minivalue"
      ],
      "execution_count": 10,
      "outputs": [
        {
          "output_type": "execute_result",
          "data": {
            "text/plain": [
              "0"
            ]
          },
          "metadata": {
            "tags": []
          },
          "execution_count": 10
        }
      ]
    },
    {
      "cell_type": "code",
      "metadata": {
        "colab": {
          "base_uri": "https://localhost:8080/"
        },
        "id": "CudUNgwsv0wn",
        "outputId": "5f671749-623f-4dca-fca8-e47e0e2d9549"
      },
      "source": [
        "a1.argmax()  # index of max value"
      ],
      "execution_count": 11,
      "outputs": [
        {
          "output_type": "execute_result",
          "data": {
            "text/plain": [
              "10"
            ]
          },
          "metadata": {
            "tags": []
          },
          "execution_count": 11
        }
      ]
    },
    {
      "cell_type": "code",
      "metadata": {
        "colab": {
          "base_uri": "https://localhost:8080/"
        },
        "id": "IHr-JKamv22s",
        "outputId": "4d04f45c-b5d3-4b70-8454-606dcd02f6ab"
      },
      "source": [
        "a1.ndim # no. of dimenion"
      ],
      "execution_count": 14,
      "outputs": [
        {
          "output_type": "execute_result",
          "data": {
            "text/plain": [
              "2"
            ]
          },
          "metadata": {
            "tags": []
          },
          "execution_count": 14
        }
      ]
    },
    {
      "cell_type": "code",
      "metadata": {
        "colab": {
          "base_uri": "https://localhost:8080/"
        },
        "id": "nW3tKIH0wi2d",
        "outputId": "fe8a93aa-debc-45fe-fd5d-f998882e50c8"
      },
      "source": [
        "a1.dtype"
      ],
      "execution_count": 15,
      "outputs": [
        {
          "output_type": "execute_result",
          "data": {
            "text/plain": [
              "dtype('int64')"
            ]
          },
          "metadata": {
            "tags": []
          },
          "execution_count": 15
        }
      ]
    },
    {
      "cell_type": "code",
      "metadata": {
        "colab": {
          "base_uri": "https://localhost:8080/"
        },
        "id": "ZDh281Yuw2LB",
        "outputId": "9ffc4981-1819-4d91-a2bc-1b4ba0cf63f3"
      },
      "source": [
        "a1.sum()"
      ],
      "execution_count": 17,
      "outputs": [
        {
          "output_type": "execute_result",
          "data": {
            "text/plain": [
              "59"
            ]
          },
          "metadata": {
            "tags": []
          },
          "execution_count": 17
        }
      ]
    },
    {
      "cell_type": "code",
      "metadata": {
        "colab": {
          "base_uri": "https://localhost:8080/"
        },
        "id": "Bs38TgOew6Xr",
        "outputId": "7e80e6f3-7336-4fbf-aa46-38bb783c232e"
      },
      "source": [
        "type(a1)"
      ],
      "execution_count": 18,
      "outputs": [
        {
          "output_type": "execute_result",
          "data": {
            "text/plain": [
              "numpy.ndarray"
            ]
          },
          "metadata": {
            "tags": []
          },
          "execution_count": 18
        }
      ]
    },
    {
      "cell_type": "code",
      "metadata": {
        "colab": {
          "base_uri": "https://localhost:8080/"
        },
        "id": "kiAPXPY3xAAQ",
        "outputId": "3e1ea110-d295-4138-9f52-2031abf1dd9e"
      },
      "source": [
        "a1.sum(axis = 0 ) # cols vise sumation"
      ],
      "execution_count": 19,
      "outputs": [
        {
          "output_type": "execute_result",
          "data": {
            "text/plain": [
              "array([18, 22, 19])"
            ]
          },
          "metadata": {
            "tags": []
          },
          "execution_count": 19
        }
      ]
    },
    {
      "cell_type": "code",
      "metadata": {
        "colab": {
          "base_uri": "https://localhost:8080/"
        },
        "id": "lxzYsZKNxIdM",
        "outputId": "f69c809e-6898-463b-c37b-086bb745fe66"
      },
      "source": [
        "a1.sum(axis = 1) # rows vise sumation "
      ],
      "execution_count": 20,
      "outputs": [
        {
          "output_type": "execute_result",
          "data": {
            "text/plain": [
              "array([ 6, 18, 16, 19])"
            ]
          },
          "metadata": {
            "tags": []
          },
          "execution_count": 20
        }
      ]
    },
    {
      "cell_type": "code",
      "metadata": {
        "colab": {
          "base_uri": "https://localhost:8080/"
        },
        "id": "WRFsp1cDxLLb",
        "outputId": "c4265db3-8d37-4e5a-83b5-14fb8c7b2050"
      },
      "source": [
        "a1"
      ],
      "execution_count": 21,
      "outputs": [
        {
          "output_type": "execute_result",
          "data": {
            "text/plain": [
              "array([[1, 2, 3],\n",
              "       [5, 6, 7],\n",
              "       [8, 5, 3],\n",
              "       [4, 9, 6]])"
            ]
          },
          "metadata": {
            "tags": []
          },
          "execution_count": 21
        }
      ]
    },
    {
      "cell_type": "code",
      "metadata": {
        "id": "sfYmTnOLxPb6"
      },
      "source": [
        "### Picking element from array (slicing of array)"
      ],
      "execution_count": 22,
      "outputs": []
    },
    {
      "cell_type": "code",
      "metadata": {
        "colab": {
          "base_uri": "https://localhost:8080/"
        },
        "id": "5zkSqJtmyWXv",
        "outputId": "b222f89b-3f48-4bba-991f-6634ccd54427"
      },
      "source": [
        "a1"
      ],
      "execution_count": 23,
      "outputs": [
        {
          "output_type": "execute_result",
          "data": {
            "text/plain": [
              "array([[1, 2, 3],\n",
              "       [5, 6, 7],\n",
              "       [8, 5, 3],\n",
              "       [4, 9, 6]])"
            ]
          },
          "metadata": {
            "tags": []
          },
          "execution_count": 23
        }
      ]
    },
    {
      "cell_type": "code",
      "metadata": {
        "colab": {
          "base_uri": "https://localhost:8080/"
        },
        "id": "-OiIXkyfyXka",
        "outputId": "638f73d4-a9bc-4641-91f5-cab953e43a80"
      },
      "source": [
        "a1[2]  # return 2nd row values"
      ],
      "execution_count": 24,
      "outputs": [
        {
          "output_type": "execute_result",
          "data": {
            "text/plain": [
              "array([8, 5, 3])"
            ]
          },
          "metadata": {
            "tags": []
          },
          "execution_count": 24
        }
      ]
    },
    {
      "cell_type": "code",
      "metadata": {
        "colab": {
          "base_uri": "https://localhost:8080/"
        },
        "id": "uy4MYrqeyZiE",
        "outputId": "ec526d8c-2595-43a0-83de-09b734acdbd6"
      },
      "source": [
        "a1[:]"
      ],
      "execution_count": 25,
      "outputs": [
        {
          "output_type": "execute_result",
          "data": {
            "text/plain": [
              "array([[1, 2, 3],\n",
              "       [5, 6, 7],\n",
              "       [8, 5, 3],\n",
              "       [4, 9, 6]])"
            ]
          },
          "metadata": {
            "tags": []
          },
          "execution_count": 25
        }
      ]
    },
    {
      "cell_type": "code",
      "metadata": {
        "colab": {
          "base_uri": "https://localhost:8080/"
        },
        "id": "Pim-A1lIyk-w",
        "outputId": "d1dde304-dd28-4ac8-af88-79216464e253"
      },
      "source": [
        "a1[1:4]  # row index from index 1 to index 3"
      ],
      "execution_count": 26,
      "outputs": [
        {
          "output_type": "execute_result",
          "data": {
            "text/plain": [
              "array([[5, 6, 7],\n",
              "       [8, 5, 3],\n",
              "       [4, 9, 6]])"
            ]
          },
          "metadata": {
            "tags": []
          },
          "execution_count": 26
        }
      ]
    },
    {
      "cell_type": "code",
      "metadata": {
        "colab": {
          "base_uri": "https://localhost:8080/"
        },
        "id": "cvLHIKpHyqey",
        "outputId": "be230d0b-322e-4f6a-bc8d-f2720c4bb0a4"
      },
      "source": [
        "a1[:,:]  # complete row n cols]"
      ],
      "execution_count": 27,
      "outputs": [
        {
          "output_type": "execute_result",
          "data": {
            "text/plain": [
              "array([[1, 2, 3],\n",
              "       [5, 6, 7],\n",
              "       [8, 5, 3],\n",
              "       [4, 9, 6]])"
            ]
          },
          "metadata": {
            "tags": []
          },
          "execution_count": 27
        }
      ]
    },
    {
      "cell_type": "code",
      "metadata": {
        "colab": {
          "base_uri": "https://localhost:8080/"
        },
        "id": "HYqacReozImX",
        "outputId": "134459aa-6685-425a-d836-40df1da91803"
      },
      "source": [
        "a1[:,1]"
      ],
      "execution_count": 28,
      "outputs": [
        {
          "output_type": "execute_result",
          "data": {
            "text/plain": [
              "array([2, 6, 5, 9])"
            ]
          },
          "metadata": {
            "tags": []
          },
          "execution_count": 28
        }
      ]
    },
    {
      "cell_type": "code",
      "metadata": {
        "colab": {
          "base_uri": "https://localhost:8080/"
        },
        "id": "47j9Kau8zNjQ",
        "outputId": "f1cdf35d-a337-43ef-d015-f302b3708c0f"
      },
      "source": [
        "a1[1:4,1:3]"
      ],
      "execution_count": 30,
      "outputs": [
        {
          "output_type": "execute_result",
          "data": {
            "text/plain": [
              "array([[6, 7],\n",
              "       [5, 3],\n",
              "       [9, 6]])"
            ]
          },
          "metadata": {
            "tags": []
          },
          "execution_count": 30
        }
      ]
    },
    {
      "cell_type": "code",
      "metadata": {
        "id": "Q3-fNwSXzxyN"
      },
      "source": [
        "## line space function equal distance no.(2,4,6...) fix sample range"
      ],
      "execution_count": 33,
      "outputs": []
    },
    {
      "cell_type": "code",
      "metadata": {
        "id": "DicO_PRe0nV2"
      },
      "source": [
        "a2 = np.linspace(1,100)"
      ],
      "execution_count": 34,
      "outputs": []
    },
    {
      "cell_type": "code",
      "metadata": {
        "colab": {
          "base_uri": "https://localhost:8080/"
        },
        "id": "zJYjpcLP0-kl",
        "outputId": "87b32cbe-fac2-4fbe-a8e8-d0eb969ec309"
      },
      "source": [
        "a2"
      ],
      "execution_count": 35,
      "outputs": [
        {
          "output_type": "execute_result",
          "data": {
            "text/plain": [
              "array([  1.        ,   3.02040816,   5.04081633,   7.06122449,\n",
              "         9.08163265,  11.10204082,  13.12244898,  15.14285714,\n",
              "        17.16326531,  19.18367347,  21.20408163,  23.2244898 ,\n",
              "        25.24489796,  27.26530612,  29.28571429,  31.30612245,\n",
              "        33.32653061,  35.34693878,  37.36734694,  39.3877551 ,\n",
              "        41.40816327,  43.42857143,  45.44897959,  47.46938776,\n",
              "        49.48979592,  51.51020408,  53.53061224,  55.55102041,\n",
              "        57.57142857,  59.59183673,  61.6122449 ,  63.63265306,\n",
              "        65.65306122,  67.67346939,  69.69387755,  71.71428571,\n",
              "        73.73469388,  75.75510204,  77.7755102 ,  79.79591837,\n",
              "        81.81632653,  83.83673469,  85.85714286,  87.87755102,\n",
              "        89.89795918,  91.91836735,  93.93877551,  95.95918367,\n",
              "        97.97959184, 100.        ])"
            ]
          },
          "metadata": {
            "tags": []
          },
          "execution_count": 35
        }
      ]
    },
    {
      "cell_type": "code",
      "metadata": {
        "id": "Du8RN2ga0_-E"
      },
      "source": [
        "a2 = np.linspace(1,100,10)"
      ],
      "execution_count": 36,
      "outputs": []
    },
    {
      "cell_type": "code",
      "metadata": {
        "colab": {
          "base_uri": "https://localhost:8080/"
        },
        "id": "QW-ic2-r1Wdj",
        "outputId": "c95d2c69-2e8d-48b2-b25f-5bd9d26fa51a"
      },
      "source": [
        "a2"
      ],
      "execution_count": 37,
      "outputs": [
        {
          "output_type": "execute_result",
          "data": {
            "text/plain": [
              "array([  1.,  12.,  23.,  34.,  45.,  56.,  67.,  78.,  89., 100.])"
            ]
          },
          "metadata": {
            "tags": []
          },
          "execution_count": 37
        }
      ]
    },
    {
      "cell_type": "code",
      "metadata": {
        "id": "RGtkUe7t1XTF"
      },
      "source": [
        "a2 = np.linspace(1,100,retstep = True)"
      ],
      "execution_count": 38,
      "outputs": []
    },
    {
      "cell_type": "code",
      "metadata": {
        "colab": {
          "base_uri": "https://localhost:8080/"
        },
        "id": "aRTLHdQc1qpo",
        "outputId": "483ad746-bf96-4f9e-f111-d813f2c95644"
      },
      "source": [
        "a2"
      ],
      "execution_count": 39,
      "outputs": [
        {
          "output_type": "execute_result",
          "data": {
            "text/plain": [
              "(array([  1.        ,   3.02040816,   5.04081633,   7.06122449,\n",
              "          9.08163265,  11.10204082,  13.12244898,  15.14285714,\n",
              "         17.16326531,  19.18367347,  21.20408163,  23.2244898 ,\n",
              "         25.24489796,  27.26530612,  29.28571429,  31.30612245,\n",
              "         33.32653061,  35.34693878,  37.36734694,  39.3877551 ,\n",
              "         41.40816327,  43.42857143,  45.44897959,  47.46938776,\n",
              "         49.48979592,  51.51020408,  53.53061224,  55.55102041,\n",
              "         57.57142857,  59.59183673,  61.6122449 ,  63.63265306,\n",
              "         65.65306122,  67.67346939,  69.69387755,  71.71428571,\n",
              "         73.73469388,  75.75510204,  77.7755102 ,  79.79591837,\n",
              "         81.81632653,  83.83673469,  85.85714286,  87.87755102,\n",
              "         89.89795918,  91.91836735,  93.93877551,  95.95918367,\n",
              "         97.97959184, 100.        ]), 2.020408163265306)"
            ]
          },
          "metadata": {
            "tags": []
          },
          "execution_count": 39
        }
      ]
    },
    {
      "cell_type": "code",
      "metadata": {
        "id": "c0Ew6jvf1rwK"
      },
      "source": [
        "a2 = np.linspace(1,100,10,retstep = True)"
      ],
      "execution_count": 40,
      "outputs": []
    },
    {
      "cell_type": "code",
      "metadata": {
        "colab": {
          "base_uri": "https://localhost:8080/"
        },
        "id": "iLILqZsL12sP",
        "outputId": "b7e73635-0f85-4083-f8aa-26ace4385879"
      },
      "source": [
        "a2"
      ],
      "execution_count": 41,
      "outputs": [
        {
          "output_type": "execute_result",
          "data": {
            "text/plain": [
              "(array([  1.,  12.,  23.,  34.,  45.,  56.,  67.,  78.,  89., 100.]), 11.0)"
            ]
          },
          "metadata": {
            "tags": []
          },
          "execution_count": 41
        }
      ]
    },
    {
      "cell_type": "code",
      "metadata": {
        "colab": {
          "base_uri": "https://localhost:8080/"
        },
        "id": "PTV8_3ND13Qy",
        "outputId": "7a28e50e-645e-4879-fb93-5d2142ab6be5"
      },
      "source": [
        "type(a2)"
      ],
      "execution_count": 42,
      "outputs": [
        {
          "output_type": "execute_result",
          "data": {
            "text/plain": [
              "tuple"
            ]
          },
          "metadata": {
            "tags": []
          },
          "execution_count": 42
        }
      ]
    },
    {
      "cell_type": "code",
      "metadata": {
        "colab": {
          "base_uri": "https://localhost:8080/"
        },
        "id": "kUSnGw-A1_s3",
        "outputId": "4c7f13d5-7d29-4a21-8649-1670fe4fbba1"
      },
      "source": [
        "a2[1]"
      ],
      "execution_count": 43,
      "outputs": [
        {
          "output_type": "execute_result",
          "data": {
            "text/plain": [
              "11.0"
            ]
          },
          "metadata": {
            "tags": []
          },
          "execution_count": 43
        }
      ]
    },
    {
      "cell_type": "code",
      "metadata": {
        "colab": {
          "base_uri": "https://localhost:8080/"
        },
        "id": "2p0Lhs4y2Kt5",
        "outputId": "4472f2b0-5708-4801-f2d2-27ef022e71a4"
      },
      "source": [
        "a2[0]"
      ],
      "execution_count": 44,
      "outputs": [
        {
          "output_type": "execute_result",
          "data": {
            "text/plain": [
              "array([  1.,  12.,  23.,  34.,  45.,  56.,  67.,  78.,  89., 100.])"
            ]
          },
          "metadata": {
            "tags": []
          },
          "execution_count": 44
        }
      ]
    },
    {
      "cell_type": "code",
      "metadata": {
        "id": "aAS_M6rt2MQT"
      },
      "source": [
        "a3 = a2[0].astype('int')"
      ],
      "execution_count": 45,
      "outputs": []
    },
    {
      "cell_type": "code",
      "metadata": {
        "colab": {
          "base_uri": "https://localhost:8080/"
        },
        "id": "kY2RQSlq2bZQ",
        "outputId": "f41896ea-b23f-4aac-ea33-37b8224e3150"
      },
      "source": [
        "a3"
      ],
      "execution_count": 46,
      "outputs": [
        {
          "output_type": "execute_result",
          "data": {
            "text/plain": [
              "array([  1,  12,  23,  34,  45,  56,  67,  78,  89, 100])"
            ]
          },
          "metadata": {
            "tags": []
          },
          "execution_count": 46
        }
      ]
    },
    {
      "cell_type": "code",
      "metadata": {
        "id": "G_Z0gljU2cRZ"
      },
      "source": [
        "## arange function  fix size"
      ],
      "execution_count": 47,
      "outputs": []
    },
    {
      "cell_type": "code",
      "metadata": {
        "id": "c0mKtC-g26z7"
      },
      "source": [
        "a4 = np.arange(1,100,5)"
      ],
      "execution_count": 48,
      "outputs": []
    },
    {
      "cell_type": "code",
      "metadata": {
        "colab": {
          "base_uri": "https://localhost:8080/"
        },
        "id": "r0X16DCl3GNP",
        "outputId": "0f150780-6bdf-4439-fb69-0a7885347eb5"
      },
      "source": [
        "\n",
        "a4"
      ],
      "execution_count": 49,
      "outputs": [
        {
          "output_type": "execute_result",
          "data": {
            "text/plain": [
              "array([ 1,  6, 11, 16, 21, 26, 31, 36, 41, 46, 51, 56, 61, 66, 71, 76, 81,\n",
              "       86, 91, 96])"
            ]
          },
          "metadata": {
            "tags": []
          },
          "execution_count": 49
        }
      ]
    },
    {
      "cell_type": "code",
      "metadata": {
        "id": "v2Sizzsw3HBC"
      },
      "source": [
        "# random numbers "
      ],
      "execution_count": 50,
      "outputs": []
    },
    {
      "cell_type": "code",
      "metadata": {
        "colab": {
          "base_uri": "https://localhost:8080/"
        },
        "id": "RDpKmi7f3cVv",
        "outputId": "4c7978f1-b99c-4588-e00a-5fefe07b3efb"
      },
      "source": [
        "np.random.randint(100)  ## any random number b/w 0-99"
      ],
      "execution_count": 51,
      "outputs": [
        {
          "output_type": "execute_result",
          "data": {
            "text/plain": [
              "77"
            ]
          },
          "metadata": {
            "tags": []
          },
          "execution_count": 51
        }
      ]
    },
    {
      "cell_type": "code",
      "metadata": {
        "colab": {
          "base_uri": "https://localhost:8080/"
        },
        "id": "9iMrGCTG3mgl",
        "outputId": "6eaa7a4f-8088-4ea0-b3da-bdd0fa370cc0"
      },
      "source": [
        "np.random.seed(1)\n",
        "np.random.randint(100)"
      ],
      "execution_count": 52,
      "outputs": [
        {
          "output_type": "execute_result",
          "data": {
            "text/plain": [
              "37"
            ]
          },
          "metadata": {
            "tags": []
          },
          "execution_count": 52
        }
      ]
    },
    {
      "cell_type": "code",
      "metadata": {
        "colab": {
          "base_uri": "https://localhost:8080/"
        },
        "id": "xB4YrVo436pr",
        "outputId": "d833477f-2e49-431f-ec32-3e21928ea83d"
      },
      "source": [
        "np.random.seed(2)\n",
        "np.random.randint(100)"
      ],
      "execution_count": 53,
      "outputs": [
        {
          "output_type": "execute_result",
          "data": {
            "text/plain": [
              "40"
            ]
          },
          "metadata": {
            "tags": []
          },
          "execution_count": 53
        }
      ]
    },
    {
      "cell_type": "code",
      "metadata": {
        "colab": {
          "base_uri": "https://localhost:8080/"
        },
        "id": "f6XjBrbZ3-SU",
        "outputId": "8bef6340-a25c-40fa-84e6-8b431ef7bf8d"
      },
      "source": [
        "np.random.seed(200)\n",
        "np.random.randint(100)"
      ],
      "execution_count": 54,
      "outputs": [
        {
          "output_type": "execute_result",
          "data": {
            "text/plain": [
              "26"
            ]
          },
          "metadata": {
            "tags": []
          },
          "execution_count": 54
        }
      ]
    },
    {
      "cell_type": "code",
      "metadata": {
        "colab": {
          "base_uri": "https://localhost:8080/"
        },
        "id": "JznaHLv44B7m",
        "outputId": "8105549e-aabf-4a4e-9923-3b3ad6eabedb"
      },
      "source": [
        "# np.random.seed(1)      # variable value if we not use seed\n",
        "np.random.randint(100)"
      ],
      "execution_count": 56,
      "outputs": [
        {
          "output_type": "execute_result",
          "data": {
            "text/plain": [
              "68"
            ]
          },
          "metadata": {
            "tags": []
          },
          "execution_count": 56
        }
      ]
    },
    {
      "cell_type": "code",
      "metadata": {
        "colab": {
          "base_uri": "https://localhost:8080/"
        },
        "id": "EfxADcNN4OA_",
        "outputId": "7c7fe14a-a316-48c8-cea7-eff1493c8a77"
      },
      "source": [
        "\n",
        "np.random.randint(100,1000)   ## b/w 100-999"
      ],
      "execution_count": 57,
      "outputs": [
        {
          "output_type": "execute_result",
          "data": {
            "text/plain": [
              "910"
            ]
          },
          "metadata": {
            "tags": []
          },
          "execution_count": 57
        }
      ]
    },
    {
      "cell_type": "code",
      "metadata": {
        "colab": {
          "base_uri": "https://localhost:8080/"
        },
        "id": "Vdu9nTNu4izr",
        "outputId": "31e0c2a5-35dd-4848-8901-72f02e1df446"
      },
      "source": [
        "\n",
        "np.random.randint(100,1000,10)"
      ],
      "execution_count": 58,
      "outputs": [
        {
          "output_type": "execute_result",
          "data": {
            "text/plain": [
              "array([795, 944, 179, 445, 626, 319, 285, 701, 239, 142])"
            ]
          },
          "metadata": {
            "tags": []
          },
          "execution_count": 58
        }
      ]
    },
    {
      "cell_type": "code",
      "metadata": {
        "colab": {
          "base_uri": "https://localhost:8080/"
        },
        "id": "zkAn2BMC4qmN",
        "outputId": "c6a9b84d-9743-49ee-9a65-db8521b0f38b"
      },
      "source": [
        "\n",
        "np.random.randint(100,1000,(5,4))"
      ],
      "execution_count": 59,
      "outputs": [
        {
          "output_type": "execute_result",
          "data": {
            "text/plain": [
              "array([[412, 613, 107, 151],\n",
              "       [301, 243, 741, 338],\n",
              "       [379, 185, 508, 363],\n",
              "       [506, 922, 884, 462],\n",
              "       [903, 604, 344, 259]])"
            ]
          },
          "metadata": {
            "tags": []
          },
          "execution_count": 59
        }
      ]
    },
    {
      "cell_type": "code",
      "metadata": {
        "id": "Qh-neSNA40tE"
      },
      "source": [
        "np.random.seed(1)\n",
        "a = np.random.randint(100,1000,(5,4))\n",
        "\n",
        "\n"
      ],
      "execution_count": 77,
      "outputs": []
    },
    {
      "cell_type": "code",
      "metadata": {
        "colab": {
          "base_uri": "https://localhost:8080/"
        },
        "id": "pmhZyLmf8KG-",
        "outputId": "324e1fbd-5e64-40b1-c985-f1bc03796393"
      },
      "source": [
        "np.random.random(3)"
      ],
      "execution_count": 82,
      "outputs": [
        {
          "output_type": "execute_result",
          "data": {
            "text/plain": [
              "array([0.69232262, 0.87638915, 0.89460666])"
            ]
          },
          "metadata": {
            "tags": []
          },
          "execution_count": 82
        }
      ]
    },
    {
      "cell_type": "code",
      "metadata": {
        "colab": {
          "base_uri": "https://localhost:8080/"
        },
        "id": "E_OT1UHf7-yW",
        "outputId": "42b9d97e-93cd-4b88-eb66-3ba53dd02910"
      },
      "source": [
        "np.random.random(10)"
      ],
      "execution_count": 79,
      "outputs": [
        {
          "output_type": "execute_result",
          "data": {
            "text/plain": [
              "array([0.87811744, 0.02738759, 0.67046751, 0.4173048 , 0.55868983,\n",
              "       0.14038694, 0.19810149, 0.80074457, 0.96826158, 0.31342418])"
            ]
          },
          "metadata": {
            "tags": []
          },
          "execution_count": 79
        }
      ]
    },
    {
      "cell_type": "code",
      "metadata": {
        "colab": {
          "base_uri": "https://localhost:8080/"
        },
        "id": "IoKQxbNq5SPz",
        "outputId": "f14e2915-0b11-4ab4-f343-05f94d1d8441"
      },
      "source": [
        "a"
      ],
      "execution_count": 62,
      "outputs": [
        {
          "output_type": "execute_result",
          "data": {
            "text/plain": [
              "array([[137, 335, 172, 867],\n",
              "       [815, 745, 947, 244],\n",
              "       [229, 683, 849, 608],\n",
              "       [490, 381, 278, 376],\n",
              "       [354, 457, 568, 352]])"
            ]
          },
          "metadata": {
            "tags": []
          },
          "execution_count": 62
        }
      ]
    },
    {
      "cell_type": "code",
      "metadata": {
        "colab": {
          "base_uri": "https://localhost:8080/"
        },
        "id": "c4edro5f5a6u",
        "outputId": "5f26efbf-fab2-40e6-8bda-5a8d1eb7907d"
      },
      "source": [
        "a.min()"
      ],
      "execution_count": 66,
      "outputs": [
        {
          "output_type": "execute_result",
          "data": {
            "text/plain": [
              "137"
            ]
          },
          "metadata": {
            "tags": []
          },
          "execution_count": 66
        }
      ]
    },
    {
      "cell_type": "code",
      "metadata": {
        "colab": {
          "base_uri": "https://localhost:8080/"
        },
        "id": "R0xMQ7vq5cli",
        "outputId": "c4a9d2d5-ae98-41c0-bbae-761b58c7f883"
      },
      "source": [
        "a.argmin()"
      ],
      "execution_count": 64,
      "outputs": [
        {
          "output_type": "execute_result",
          "data": {
            "text/plain": [
              "0"
            ]
          },
          "metadata": {
            "tags": []
          },
          "execution_count": 64
        }
      ]
    },
    {
      "cell_type": "code",
      "metadata": {
        "colab": {
          "base_uri": "https://localhost:8080/"
        },
        "id": "_fLaeLRF5fUT",
        "outputId": "c154aba9-439d-48de-a9ba-0a46c39c4652"
      },
      "source": [
        "a[0]"
      ],
      "execution_count": 68,
      "outputs": [
        {
          "output_type": "execute_result",
          "data": {
            "text/plain": [
              "array([137, 335, 172, 867])"
            ]
          },
          "metadata": {
            "tags": []
          },
          "execution_count": 68
        }
      ]
    },
    {
      "cell_type": "code",
      "metadata": {
        "id": "UyRuq5Jk5hFG"
      },
      "source": [
        "b = a.reshape(20,)  ## change the shape as 2d into 1 d"
      ],
      "execution_count": 69,
      "outputs": []
    },
    {
      "cell_type": "code",
      "metadata": {
        "colab": {
          "base_uri": "https://localhost:8080/"
        },
        "id": "pcNf_Bgm6NS8",
        "outputId": "7560ff5b-b44d-4adf-bb49-e23ee5e16b35"
      },
      "source": [
        "b"
      ],
      "execution_count": 70,
      "outputs": [
        {
          "output_type": "execute_result",
          "data": {
            "text/plain": [
              "array([137, 335, 172, 867, 815, 745, 947, 244, 229, 683, 849, 608, 490,\n",
              "       381, 278, 376, 354, 457, 568, 352])"
            ]
          },
          "metadata": {
            "tags": []
          },
          "execution_count": 70
        }
      ]
    },
    {
      "cell_type": "code",
      "metadata": {
        "colab": {
          "base_uri": "https://localhost:8080/"
        },
        "id": "WxvyDm926Oob",
        "outputId": "f67ce886-1ebd-4ddc-e80e-48964241ec7d"
      },
      "source": [
        "b.ndim"
      ],
      "execution_count": 71,
      "outputs": [
        {
          "output_type": "execute_result",
          "data": {
            "text/plain": [
              "1"
            ]
          },
          "metadata": {
            "tags": []
          },
          "execution_count": 71
        }
      ]
    },
    {
      "cell_type": "code",
      "metadata": {
        "colab": {
          "base_uri": "https://localhost:8080/"
        },
        "id": "kSxf05yq6VsT",
        "outputId": "404bbe52-c960-4c52-ad85-60c11bce0803"
      },
      "source": [
        "a.max()"
      ],
      "execution_count": 72,
      "outputs": [
        {
          "output_type": "execute_result",
          "data": {
            "text/plain": [
              "947"
            ]
          },
          "metadata": {
            "tags": []
          },
          "execution_count": 72
        }
      ]
    },
    {
      "cell_type": "code",
      "metadata": {
        "colab": {
          "base_uri": "https://localhost:8080/"
        },
        "id": "gQBLuapl6XIw",
        "outputId": "52bb6512-a3b0-4a33-d275-8f2327455a24"
      },
      "source": [
        "a.argmax()"
      ],
      "execution_count": 73,
      "outputs": [
        {
          "output_type": "execute_result",
          "data": {
            "text/plain": [
              "6"
            ]
          },
          "metadata": {
            "tags": []
          },
          "execution_count": 73
        }
      ]
    },
    {
      "cell_type": "code",
      "metadata": {
        "colab": {
          "base_uri": "https://localhost:8080/"
        },
        "id": "QG4SrKfZ6bS3",
        "outputId": "e27e50cc-a761-4689-a3a6-cc6523ac140e"
      },
      "source": [
        "b[6]"
      ],
      "execution_count": 74,
      "outputs": [
        {
          "output_type": "execute_result",
          "data": {
            "text/plain": [
              "947"
            ]
          },
          "metadata": {
            "tags": []
          },
          "execution_count": 74
        }
      ]
    },
    {
      "cell_type": "code",
      "metadata": {
        "id": "Z9P-bWDc6di1"
      },
      "source": [
        "c = a.reshape((10,2))"
      ],
      "execution_count": 75,
      "outputs": []
    },
    {
      "cell_type": "code",
      "metadata": {
        "colab": {
          "base_uri": "https://localhost:8080/"
        },
        "id": "c-rTUns37IuO",
        "outputId": "a2e5a107-9dfa-47c9-abdd-401ab8bfbbaa"
      },
      "source": [
        "c"
      ],
      "execution_count": 76,
      "outputs": [
        {
          "output_type": "execute_result",
          "data": {
            "text/plain": [
              "array([[137, 335],\n",
              "       [172, 867],\n",
              "       [815, 745],\n",
              "       [947, 244],\n",
              "       [229, 683],\n",
              "       [849, 608],\n",
              "       [490, 381],\n",
              "       [278, 376],\n",
              "       [354, 457],\n",
              "       [568, 352]])"
            ]
          },
          "metadata": {
            "tags": []
          },
          "execution_count": 76
        }
      ]
    },
    {
      "cell_type": "code",
      "metadata": {
        "id": "Jy0hCQ1D7JIm"
      },
      "source": [
        ""
      ],
      "execution_count": null,
      "outputs": []
    }
  ]
}